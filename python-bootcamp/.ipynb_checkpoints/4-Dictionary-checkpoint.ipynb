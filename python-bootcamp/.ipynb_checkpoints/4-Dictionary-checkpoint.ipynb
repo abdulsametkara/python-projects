{
 "cells": [
  {
   "cell_type": "code",
   "execution_count": 1,
   "id": "8726c85a-413f-4a6b-8b3f-2ae240144f8b",
   "metadata": {},
   "outputs": [],
   "source": [
    "#key - value pairing"
   ]
  },
  {
   "cell_type": "code",
   "execution_count": 2,
   "id": "2f468552-c7a3-4d9e-ab3f-7e2f64f69ace",
   "metadata": {},
   "outputs": [],
   "source": [
    "fruitList = [\"banana\", \"apple\"]"
   ]
  },
  {
   "cell_type": "code",
   "execution_count": 3,
   "id": "cac2e1bf-52fa-4786-b5c0-8fe57d585d78",
   "metadata": {},
   "outputs": [],
   "source": [
    "calorieList = [100,150]"
   ]
  },
  {
   "cell_type": "code",
   "execution_count": 4,
   "id": "dcd31e10-3fe4-4025-a7d0-cb7e37a19826",
   "metadata": {},
   "outputs": [
    {
     "data": {
      "text/plain": [
       "'banana'"
      ]
     },
     "execution_count": 4,
     "metadata": {},
     "output_type": "execute_result"
    }
   ],
   "source": [
    "fruitList[0]"
   ]
  },
  {
   "cell_type": "code",
   "execution_count": 5,
   "id": "5f9513b2-7d8b-469f-9f83-c2dd28eece1b",
   "metadata": {},
   "outputs": [
    {
     "data": {
      "text/plain": [
       "100"
      ]
     },
     "execution_count": 5,
     "metadata": {},
     "output_type": "execute_result"
    }
   ],
   "source": [
    "calorieList[0]"
   ]
  },
  {
   "cell_type": "code",
   "execution_count": 6,
   "id": "f30f78c6-6bae-4a0f-87aa-1319a79c0f29",
   "metadata": {},
   "outputs": [],
   "source": [
    "fitnessDictionary = {\"banana\":100, \"apple\":150}"
   ]
  },
  {
   "cell_type": "code",
   "execution_count": 7,
   "id": "5e7e185c-f54d-41b3-954b-c1d4e9621ba9",
   "metadata": {},
   "outputs": [
    {
     "data": {
      "text/plain": [
       "dict"
      ]
     },
     "execution_count": 7,
     "metadata": {},
     "output_type": "execute_result"
    }
   ],
   "source": [
    "type(fitnessDictionary)"
   ]
  },
  {
   "cell_type": "code",
   "execution_count": 8,
   "id": "5aead00b-a4a0-49e5-8c96-ab60697fd153",
   "metadata": {},
   "outputs": [
    {
     "data": {
      "text/plain": [
       "{'banana': 100, 'apple': 150}"
      ]
     },
     "execution_count": 8,
     "metadata": {},
     "output_type": "execute_result"
    }
   ],
   "source": [
    "fitnessDictionary"
   ]
  },
  {
   "cell_type": "code",
   "execution_count": 12,
   "id": "7eee847f-f6a4-4c2c-90b3-dc362b78807d",
   "metadata": {},
   "outputs": [
    {
     "data": {
      "text/plain": [
       "100"
      ]
     },
     "execution_count": 12,
     "metadata": {},
     "output_type": "execute_result"
    }
   ],
   "source": [
    "fitnessDictionary[\"banana\"]"
   ]
  },
  {
   "cell_type": "code",
   "execution_count": 13,
   "id": "55435ff3-476d-402d-8560-4140be84c465",
   "metadata": {},
   "outputs": [
    {
     "data": {
      "text/plain": [
       "150"
      ]
     },
     "execution_count": 13,
     "metadata": {},
     "output_type": "execute_result"
    }
   ],
   "source": [
    "fitnessDictionary[\"apple\"]"
   ]
  },
  {
   "cell_type": "code",
   "execution_count": 16,
   "id": "da4d9a98-5cea-4b19-84a6-d8f1b35d62b9",
   "metadata": {},
   "outputs": [
    {
     "data": {
      "text/plain": [
       "dict_keys(['banana', 'apple'])"
      ]
     },
     "execution_count": 16,
     "metadata": {},
     "output_type": "execute_result"
    }
   ],
   "source": [
    "fitnessDictionary.keys()"
   ]
  },
  {
   "cell_type": "code",
   "execution_count": 17,
   "id": "e1274193-8199-4906-a32b-eb26977b6f0e",
   "metadata": {},
   "outputs": [
    {
     "data": {
      "text/plain": [
       "dict_values([100, 150])"
      ]
     },
     "execution_count": 17,
     "metadata": {},
     "output_type": "execute_result"
    }
   ],
   "source": [
    "fitnessDictionary.values()"
   ]
  },
  {
   "cell_type": "code",
   "execution_count": 18,
   "id": "4ed64802-241d-4bac-873c-ae79a40478d8",
   "metadata": {},
   "outputs": [
    {
     "data": {
      "text/plain": [
       "dict_values"
      ]
     },
     "execution_count": 18,
     "metadata": {},
     "output_type": "execute_result"
    }
   ],
   "source": [
    "type(fitnessDictionary.values())"
   ]
  },
  {
   "cell_type": "code",
   "execution_count": 19,
   "id": "05ae2e09-12c9-46c1-a2a7-3ff37f28793d",
   "metadata": {},
   "outputs": [
    {
     "data": {
      "text/plain": [
       "[100, 150]"
      ]
     },
     "execution_count": 19,
     "metadata": {},
     "output_type": "execute_result"
    }
   ],
   "source": [
    "list(fitnessDictionary.values())"
   ]
  },
  {
   "cell_type": "code",
   "execution_count": 20,
   "id": "c1f8f931-494a-4d25-85ff-134e4b039106",
   "metadata": {},
   "outputs": [],
   "source": [
    "fitnessDictionary[\"banana\"] = 200"
   ]
  },
  {
   "cell_type": "code",
   "execution_count": 22,
   "id": "72c07eeb-10b9-449d-a61e-a6180f834217",
   "metadata": {},
   "outputs": [
    {
     "data": {
      "text/plain": [
       "{'banana': 200, 'apple': 150}"
      ]
     },
     "execution_count": 22,
     "metadata": {},
     "output_type": "execute_result"
    }
   ],
   "source": [
    "fitnessDictionary"
   ]
  },
  {
   "cell_type": "code",
   "execution_count": 23,
   "id": "12a4393c-7246-42ab-bfe5-75ad227bc604",
   "metadata": {},
   "outputs": [],
   "source": [
    "fitnessDictionary[\"melon\"] = 300"
   ]
  },
  {
   "cell_type": "code",
   "execution_count": 25,
   "id": "3fc85711-6b7c-403a-ad8e-554b35007b5f",
   "metadata": {},
   "outputs": [
    {
     "data": {
      "text/plain": [
       "{'banana': 200, 'apple': 150, 'melon': 300}"
      ]
     },
     "execution_count": 25,
     "metadata": {},
     "output_type": "execute_result"
    }
   ],
   "source": [
    "fitnessDictionary"
   ]
  },
  {
   "cell_type": "code",
   "execution_count": 26,
   "id": "a77266a8-3e73-4695-b50a-41d39dabf571",
   "metadata": {},
   "outputs": [
    {
     "data": {
      "text/plain": [
       "150"
      ]
     },
     "execution_count": 26,
     "metadata": {},
     "output_type": "execute_result"
    }
   ],
   "source": [
    "fitnessDictionary.get(\"apple\",0) #key yoksa default değeri verir (2. yazılan)"
   ]
  },
  {
   "cell_type": "code",
   "execution_count": 28,
   "id": "8b180ec6-b1b7-4830-9515-e5a6f2cc8aa6",
   "metadata": {},
   "outputs": [
    {
     "data": {
      "text/plain": [
       "70"
      ]
     },
     "execution_count": 28,
     "metadata": {},
     "output_type": "execute_result"
    }
   ],
   "source": [
    "fitnessDictionary.get(\"appe\",70)"
   ]
  },
  {
   "cell_type": "code",
   "execution_count": 29,
   "id": "a634c8f3-0418-44fb-bb43-5faf43e71a2d",
   "metadata": {},
   "outputs": [
    {
     "data": {
      "text/plain": [
       "{'banana': 200, 'apple': 150, 'melon': 300}"
      ]
     },
     "execution_count": 29,
     "metadata": {},
     "output_type": "execute_result"
    }
   ],
   "source": [
    "fitnessDictionary"
   ]
  },
  {
   "cell_type": "code",
   "execution_count": 32,
   "id": "4da7a28b-28b0-4c6f-862e-55e08be989c0",
   "metadata": {},
   "outputs": [],
   "source": [
    "myDictionary = {100:\"a\", 200 : \"b\", 300 : \"c\"}"
   ]
  },
  {
   "cell_type": "code",
   "execution_count": 33,
   "id": "da981b26-0c51-47a6-9b43-cd6dd2ffc36a",
   "metadata": {},
   "outputs": [
    {
     "data": {
      "text/plain": [
       "'a'"
      ]
     },
     "execution_count": 33,
     "metadata": {},
     "output_type": "execute_result"
    }
   ],
   "source": [
    "myDictionary[100]"
   ]
  },
  {
   "cell_type": "code",
   "execution_count": 35,
   "id": "25b39020-a130-4146-84aa-076879c60cfe",
   "metadata": {},
   "outputs": [],
   "source": [
    "myDictionary = {\"key1\":\"value1\", \"key2\":\"value2\", \"key3\":\"value3\"}"
   ]
  },
  {
   "cell_type": "code",
   "execution_count": 37,
   "id": "e5229435-dc67-4218-b4dc-25b827b468de",
   "metadata": {},
   "outputs": [
    {
     "data": {
      "text/plain": [
       "'value1'"
      ]
     },
     "execution_count": 37,
     "metadata": {},
     "output_type": "execute_result"
    }
   ],
   "source": [
    "myDictionary[\"key1\"]"
   ]
  },
  {
   "cell_type": "code",
   "execution_count": 38,
   "id": "a397a71f-3ab9-4b0f-baf5-b525e8d36d0b",
   "metadata": {},
   "outputs": [],
   "source": [
    "myMixedDictionary = {\"key1\":100, \"key2\":3.14, \"key3\":[10,20,30]}"
   ]
  },
  {
   "cell_type": "code",
   "execution_count": 40,
   "id": "f17b6a78-4aff-4b77-9ac4-f180f9b3736f",
   "metadata": {},
   "outputs": [
    {
     "data": {
      "text/plain": [
       "100"
      ]
     },
     "execution_count": 40,
     "metadata": {},
     "output_type": "execute_result"
    }
   ],
   "source": [
    "myMixedDictionary[\"key1\"]"
   ]
  },
  {
   "cell_type": "code",
   "execution_count": 41,
   "id": "1635a773-018f-4a39-b372-1b10d83f5a8f",
   "metadata": {},
   "outputs": [
    {
     "data": {
      "text/plain": [
       "3.14"
      ]
     },
     "execution_count": 41,
     "metadata": {},
     "output_type": "execute_result"
    }
   ],
   "source": [
    "myMixedDictionary[\"key2\"]"
   ]
  },
  {
   "cell_type": "code",
   "execution_count": 42,
   "id": "7e8600f1-375b-47ea-9e44-72286c3c6a6a",
   "metadata": {},
   "outputs": [
    {
     "data": {
      "text/plain": [
       "[10, 20, 30]"
      ]
     },
     "execution_count": 42,
     "metadata": {},
     "output_type": "execute_result"
    }
   ],
   "source": [
    "myMixedDictionary[\"key3\"]"
   ]
  },
  {
   "cell_type": "code",
   "execution_count": 44,
   "id": "43e705a5-41cd-481a-8b4e-b20dcb51e609",
   "metadata": {},
   "outputs": [
    {
     "data": {
      "text/plain": [
       "20"
      ]
     },
     "execution_count": 44,
     "metadata": {},
     "output_type": "execute_result"
    }
   ],
   "source": [
    "myMixedDictionary[\"key3\"][1]"
   ]
  },
  {
   "cell_type": "code",
   "execution_count": null,
   "id": "543a4b17-b291-4eb5-a48d-c29a20e355f1",
   "metadata": {},
   "outputs": [],
   "source": []
  }
 ],
 "metadata": {
  "kernelspec": {
   "display_name": "Python 3 (ipykernel)",
   "language": "python",
   "name": "python3"
  },
  "language_info": {
   "codemirror_mode": {
    "name": "ipython",
    "version": 3
   },
   "file_extension": ".py",
   "mimetype": "text/x-python",
   "name": "python",
   "nbconvert_exporter": "python",
   "pygments_lexer": "ipython3",
   "version": "3.12.7"
  }
 },
 "nbformat": 4,
 "nbformat_minor": 5
}
