{
 "cells": [
  {
   "cell_type": "code",
   "execution_count": 1,
   "id": "4c3cdff0-7f7d-4926-bacb-1dcddf7d6524",
   "metadata": {},
   "outputs": [
    {
     "data": {
      "text/plain": [
       "8"
      ]
     },
     "execution_count": 1,
     "metadata": {},
     "output_type": "execute_result"
    }
   ],
   "source": [
    "3+5"
   ]
  },
  {
   "cell_type": "markdown",
   "id": "29939344-cad0-4a39-befd-da5421c8ee85",
   "metadata": {},
   "source": [
    "variables"
   ]
  },
  {
   "cell_type": "code",
   "execution_count": 2,
   "id": "43b733f6-68a4-4f37-959d-745e59f13f35",
   "metadata": {},
   "outputs": [],
   "source": [
    "age = 50"
   ]
  },
  {
   "cell_type": "code",
   "execution_count": 3,
   "id": "7e73318f-42c1-4ff1-99f7-a09b9849668d",
   "metadata": {},
   "outputs": [
    {
     "data": {
      "text/plain": [
       "50"
      ]
     },
     "execution_count": 3,
     "metadata": {},
     "output_type": "execute_result"
    }
   ],
   "source": [
    "age"
   ]
  },
  {
   "cell_type": "code",
   "execution_count": 4,
   "id": "5a8446e4-04fd-4dec-ba2d-df4ad1176397",
   "metadata": {},
   "outputs": [
    {
     "data": {
      "text/plain": [
       "250"
      ]
     },
     "execution_count": 4,
     "metadata": {},
     "output_type": "execute_result"
    }
   ],
   "source": [
    "age *5"
   ]
  },
  {
   "cell_type": "code",
   "execution_count": 5,
   "id": "14970eef-fbc9-45ab-b5b0-fdee09024c52",
   "metadata": {},
   "outputs": [
    {
     "data": {
      "text/plain": [
       "25.0"
      ]
     },
     "execution_count": 5,
     "metadata": {},
     "output_type": "execute_result"
    }
   ],
   "source": [
    "age / 2"
   ]
  },
  {
   "cell_type": "code",
   "execution_count": 8,
   "id": "3ebdb646-8d67-4e4a-93d8-576ac08a1a32",
   "metadata": {},
   "outputs": [],
   "source": [
    "#data type yorum satırı"
   ]
  },
  {
   "cell_type": "code",
   "execution_count": 9,
   "id": "b6449d66-2a9f-4a10-a891-2fb1beab4237",
   "metadata": {},
   "outputs": [
    {
     "data": {
      "text/plain": [
       "int"
      ]
     },
     "execution_count": 9,
     "metadata": {},
     "output_type": "execute_result"
    }
   ],
   "source": [
    "type(10)"
   ]
  },
  {
   "cell_type": "code",
   "execution_count": 10,
   "id": "4fcd38a5-f401-4302-b3bf-2737b5dbfc3c",
   "metadata": {},
   "outputs": [
    {
     "data": {
      "text/plain": [
       "int"
      ]
     },
     "execution_count": 10,
     "metadata": {},
     "output_type": "execute_result"
    }
   ],
   "source": [
    "type(10*3)"
   ]
  },
  {
   "cell_type": "code",
   "execution_count": 11,
   "id": "a429d4f5-beec-40b2-bf5c-4cd5e77362f4",
   "metadata": {},
   "outputs": [
    {
     "data": {
      "text/plain": [
       "int"
      ]
     },
     "execution_count": 11,
     "metadata": {},
     "output_type": "execute_result"
    }
   ],
   "source": [
    "type(age*3)"
   ]
  },
  {
   "cell_type": "code",
   "execution_count": 12,
   "id": "74d5ee6b-85a7-4ff5-bad6-ec04e3705b5c",
   "metadata": {},
   "outputs": [
    {
     "data": {
      "text/plain": [
       "float"
      ]
     },
     "execution_count": 12,
     "metadata": {},
     "output_type": "execute_result"
    }
   ],
   "source": [
    "type(age/2)"
   ]
  },
  {
   "cell_type": "code",
   "execution_count": 13,
   "id": "9b18d562-91fd-4faa-9e5d-ef82673d0521",
   "metadata": {},
   "outputs": [],
   "source": [
    "myFloat = 1.3457854"
   ]
  },
  {
   "cell_type": "code",
   "execution_count": 14,
   "id": "c7e9a135-cdd0-494d-80e1-252c93fa5e38",
   "metadata": {},
   "outputs": [
    {
     "data": {
      "text/plain": [
       "float"
      ]
     },
     "execution_count": 14,
     "metadata": {},
     "output_type": "execute_result"
    }
   ],
   "source": [
    "type(myFloat)"
   ]
  },
  {
   "cell_type": "code",
   "execution_count": 15,
   "id": "1fa2ff79-63f2-4292-94fd-53e6be7aadd2",
   "metadata": {},
   "outputs": [
    {
     "data": {
      "text/plain": [
       "6.300000000000001"
      ]
     },
     "execution_count": 15,
     "metadata": {},
     "output_type": "execute_result"
    }
   ],
   "source": [
    "4.2*1.5"
   ]
  },
  {
   "cell_type": "code",
   "execution_count": 16,
   "id": "18a7e44c-6ab3-4815-9f59-555e8c735547",
   "metadata": {},
   "outputs": [
    {
     "data": {
      "text/plain": [
       "10.5"
      ]
     },
     "execution_count": 16,
     "metadata": {},
     "output_type": "execute_result"
    }
   ],
   "source": [
    "4.2*2.5"
   ]
  },
  {
   "cell_type": "code",
   "execution_count": 17,
   "id": "0df6cf11-350e-4f3b-8ae5-bbeaea2e9068",
   "metadata": {},
   "outputs": [
    {
     "data": {
      "text/plain": [
       "8"
      ]
     },
     "execution_count": 17,
     "metadata": {},
     "output_type": "execute_result"
    }
   ],
   "source": [
    "2**3"
   ]
  },
  {
   "cell_type": "code",
   "execution_count": 18,
   "id": "078e0e29-9f24-452a-bd29-7a3286a2d3dd",
   "metadata": {},
   "outputs": [
    {
     "data": {
      "text/plain": [
       "0"
      ]
     },
     "execution_count": 18,
     "metadata": {},
     "output_type": "execute_result"
    }
   ],
   "source": [
    "10%5"
   ]
  },
  {
   "cell_type": "code",
   "execution_count": 19,
   "id": "4618f8d2-70bb-451f-9194-ae6084750746",
   "metadata": {},
   "outputs": [
    {
     "data": {
      "text/plain": [
       "1"
      ]
     },
     "execution_count": 19,
     "metadata": {},
     "output_type": "execute_result"
    }
   ],
   "source": [
    "10 % 3"
   ]
  }
 ],
 "metadata": {
  "kernelspec": {
   "display_name": "Python 3 (ipykernel)",
   "language": "python",
   "name": "python3"
  },
  "language_info": {
   "codemirror_mode": {
    "name": "ipython",
    "version": 3
   },
   "file_extension": ".py",
   "mimetype": "text/x-python",
   "name": "python",
   "nbconvert_exporter": "python",
   "pygments_lexer": "ipython3",
   "version": "3.12.7"
  }
 },
 "nbformat": 4,
 "nbformat_minor": 5
}
