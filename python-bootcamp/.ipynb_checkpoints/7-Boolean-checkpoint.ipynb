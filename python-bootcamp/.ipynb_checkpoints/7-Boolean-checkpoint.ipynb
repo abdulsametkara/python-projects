{
 "cells": [
  {
   "cell_type": "code",
   "execution_count": 1,
   "id": "3ced9f00-d2a5-4079-8e2f-320f83462ea2",
   "metadata": {},
   "outputs": [],
   "source": [
    "myBoolean = True"
   ]
  },
  {
   "cell_type": "code",
   "execution_count": 2,
   "id": "8ce4a66e-ea21-4c19-94ad-0699688378bc",
   "metadata": {},
   "outputs": [
    {
     "data": {
      "text/plain": [
       "True"
      ]
     },
     "execution_count": 2,
     "metadata": {},
     "output_type": "execute_result"
    }
   ],
   "source": [
    "myBoolean"
   ]
  },
  {
   "cell_type": "code",
   "execution_count": 3,
   "id": "f4d5d800-d25f-4852-9551-13ab09e793f6",
   "metadata": {},
   "outputs": [
    {
     "data": {
      "text/plain": [
       "bool"
      ]
     },
     "execution_count": 3,
     "metadata": {},
     "output_type": "execute_result"
    }
   ],
   "source": [
    "type(myBoolean)"
   ]
  },
  {
   "cell_type": "code",
   "execution_count": 4,
   "id": "8efc4228-7713-4dd4-9da7-2672a0028111",
   "metadata": {},
   "outputs": [
    {
     "data": {
      "text/plain": [
       "False"
      ]
     },
     "execution_count": 4,
     "metadata": {},
     "output_type": "execute_result"
    }
   ],
   "source": [
    "5 < 3"
   ]
  },
  {
   "cell_type": "code",
   "execution_count": 5,
   "id": "64d72646-6967-49e0-b3fd-d713478ba261",
   "metadata": {},
   "outputs": [
    {
     "data": {
      "text/plain": [
       "True"
      ]
     },
     "execution_count": 5,
     "metadata": {},
     "output_type": "execute_result"
    }
   ],
   "source": [
    "5 > 3"
   ]
  },
  {
   "cell_type": "code",
   "execution_count": 10,
   "id": "a09d93e1-3209-47b4-a4bc-6ebda4d2e8ea",
   "metadata": {},
   "outputs": [
    {
     "name": "stdin",
     "output_type": "stream",
     "text": [
      "yaşınızı girin:  20\n"
     ]
    }
   ],
   "source": [
    "age = input(\"yaşınızı girin: \")"
   ]
  },
  {
   "cell_type": "code",
   "execution_count": 11,
   "id": "0abfd408-7d4e-44ec-a957-a6a30e280b70",
   "metadata": {},
   "outputs": [
    {
     "data": {
      "text/plain": [
       "True"
      ]
     },
     "execution_count": 11,
     "metadata": {},
     "output_type": "execute_result"
    }
   ],
   "source": [
    "int(age) > 18"
   ]
  },
  {
   "cell_type": "code",
   "execution_count": null,
   "id": "e9c438e6-9b61-4730-9020-994b60b2de00",
   "metadata": {},
   "outputs": [],
   "source": []
  }
 ],
 "metadata": {
  "kernelspec": {
   "display_name": "Python 3 (ipykernel)",
   "language": "python",
   "name": "python3"
  },
  "language_info": {
   "codemirror_mode": {
    "name": "ipython",
    "version": 3
   },
   "file_extension": ".py",
   "mimetype": "text/x-python",
   "name": "python",
   "nbconvert_exporter": "python",
   "pygments_lexer": "ipython3",
   "version": "3.12.7"
  }
 },
 "nbformat": 4,
 "nbformat_minor": 5
}
