{
 "cells": [
  {
   "cell_type": "code",
   "execution_count": 1,
   "id": "948d539b-aea4-4f1f-863c-6be84b38f7b1",
   "metadata": {},
   "outputs": [
    {
     "data": {
      "text/plain": [
       "'samet'"
      ]
     },
     "execution_count": 1,
     "metadata": {},
     "output_type": "execute_result"
    }
   ],
   "source": [
    "\"samet\""
   ]
  },
  {
   "cell_type": "code",
   "execution_count": 2,
   "id": "90d154dd-222e-4f59-afbf-aceeeab7f235",
   "metadata": {},
   "outputs": [
    {
     "name": "stdout",
     "output_type": "stream",
     "text": [
      "samet\n"
     ]
    }
   ],
   "source": [
    "print(\"samet\")"
   ]
  },
  {
   "cell_type": "code",
   "execution_count": 3,
   "id": "a411a7ea-b9c7-4c49-b953-c299697b4dc0",
   "metadata": {},
   "outputs": [],
   "source": [
    "name = \"samet\""
   ]
  },
  {
   "cell_type": "code",
   "execution_count": 4,
   "id": "8871b3d7-0f10-4ba2-81c4-a94bd54e6890",
   "metadata": {},
   "outputs": [
    {
     "data": {
      "text/plain": [
       "str"
      ]
     },
     "execution_count": 4,
     "metadata": {},
     "output_type": "execute_result"
    }
   ],
   "source": [
    "type(name)"
   ]
  },
  {
   "cell_type": "code",
   "execution_count": 5,
   "id": "c3645ccf-3199-4f40-bfb4-9acfb29d5938",
   "metadata": {},
   "outputs": [
    {
     "data": {
      "text/plain": [
       "'A'"
      ]
     },
     "execution_count": 5,
     "metadata": {},
     "output_type": "execute_result"
    }
   ],
   "source": [
    "'A'"
   ]
  },
  {
   "cell_type": "code",
   "execution_count": 6,
   "id": "b7337af7-e5b3-4e0d-9806-56b333dcd07a",
   "metadata": {},
   "outputs": [
    {
     "data": {
      "text/plain": [
       "'abdül samet'"
      ]
     },
     "execution_count": 6,
     "metadata": {},
     "output_type": "execute_result"
    }
   ],
   "source": [
    "'abdül samet'"
   ]
  },
  {
   "cell_type": "code",
   "execution_count": 7,
   "id": "cad2a6a2-fbc4-4449-83bd-3b8fb6104d04",
   "metadata": {},
   "outputs": [],
   "source": [
    "name = \"samet\""
   ]
  },
  {
   "cell_type": "code",
   "execution_count": 8,
   "id": "451cc7a6-4aeb-49f8-9cda-8ed266327628",
   "metadata": {},
   "outputs": [],
   "source": [
    "name = \"abdul samet\""
   ]
  },
  {
   "cell_type": "code",
   "execution_count": 13,
   "id": "23505bb8-e585-4676-8711-5ab3808ffe53",
   "metadata": {},
   "outputs": [
    {
     "data": {
      "text/plain": [
       "'Abdul samet'"
      ]
     },
     "execution_count": 13,
     "metadata": {},
     "output_type": "execute_result"
    }
   ],
   "source": [
    "name.capitalize() #ilk harfini büyük yazmak"
   ]
  },
  {
   "cell_type": "code",
   "execution_count": 14,
   "id": "20cddcb5-52cf-4037-a3f9-7ac91efe15b0",
   "metadata": {},
   "outputs": [],
   "source": [
    "x = 10"
   ]
  },
  {
   "cell_type": "code",
   "execution_count": 15,
   "id": "a69e0c2a-f6b9-4755-86fc-5c039b198836",
   "metadata": {},
   "outputs": [
    {
     "name": "stdout",
     "output_type": "stream",
     "text": [
      "Help on built-in function count:\n",
      "\n",
      "count(...) method of builtins.str instance\n",
      "    S.count(sub[, start[, end]]) -> int\n",
      "\n",
      "    Return the number of non-overlapping occurrences of substring sub in\n",
      "    string S[start:end].  Optional arguments start and end are\n",
      "    interpreted as in slice notation.\n",
      "\n"
     ]
    }
   ],
   "source": [
    "help(name.count)"
   ]
  },
  {
   "cell_type": "code",
   "execution_count": 20,
   "id": "3d6605dd-e1a0-4668-b985-6ab4a6990b0c",
   "metadata": {},
   "outputs": [
    {
     "data": {
      "text/plain": [
       "2"
      ]
     },
     "execution_count": 20,
     "metadata": {},
     "output_type": "execute_result"
    }
   ],
   "source": [
    "name.count(\"a\") #kaç tane a olduğunu sayar"
   ]
  },
  {
   "cell_type": "code",
   "execution_count": 17,
   "id": "6690aea1-0554-408a-8cfa-d524aaa3e37e",
   "metadata": {},
   "outputs": [
    {
     "data": {
      "text/plain": [
       "0"
      ]
     },
     "execution_count": 17,
     "metadata": {},
     "output_type": "execute_result"
    }
   ],
   "source": [
    "name.count(\"z\")"
   ]
  },
  {
   "cell_type": "code",
   "execution_count": 21,
   "id": "d20201a4-62f6-488d-afc2-38ca407e3ca5",
   "metadata": {},
   "outputs": [
    {
     "data": {
      "text/plain": [
       "'ABDUL SAMET'"
      ]
     },
     "execution_count": 21,
     "metadata": {},
     "output_type": "execute_result"
    }
   ],
   "source": [
    "name.upper() #hepsini büyük yapar"
   ]
  },
  {
   "cell_type": "code",
   "execution_count": 19,
   "id": "6545c2bb-b344-4739-b81a-4082360b78a2",
   "metadata": {},
   "outputs": [
    {
     "data": {
      "text/plain": [
       "'abdul samet'"
      ]
     },
     "execution_count": 19,
     "metadata": {},
     "output_type": "execute_result"
    }
   ],
   "source": [
    "name"
   ]
  },
  {
   "cell_type": "code",
   "execution_count": 22,
   "id": "448bcbb1-ed07-4657-b87a-b7a1920fea80",
   "metadata": {},
   "outputs": [],
   "source": [
    "x = 15\n",
    "y = 5"
   ]
  },
  {
   "cell_type": "code",
   "execution_count": 23,
   "id": "68e17768-2c7e-41bc-9ac0-b3ca92f3fd84",
   "metadata": {},
   "outputs": [
    {
     "data": {
      "text/plain": [
       "20"
      ]
     },
     "execution_count": 23,
     "metadata": {},
     "output_type": "execute_result"
    }
   ],
   "source": [
    "x + y"
   ]
  },
  {
   "cell_type": "code",
   "execution_count": 24,
   "id": "1cd2953b-942c-4ed2-bb11-8fa3944eb8ee",
   "metadata": {},
   "outputs": [],
   "source": [
    "z = x + y"
   ]
  },
  {
   "cell_type": "code",
   "execution_count": 25,
   "id": "f06a2fcb-7cda-4113-b39e-23b87a88ce16",
   "metadata": {},
   "outputs": [
    {
     "data": {
      "text/plain": [
       "20"
      ]
     },
     "execution_count": 25,
     "metadata": {},
     "output_type": "execute_result"
    }
   ],
   "source": [
    "z"
   ]
  },
  {
   "cell_type": "code",
   "execution_count": 26,
   "id": "f30464bf-1319-4872-a298-a7649f6e5eb1",
   "metadata": {},
   "outputs": [],
   "source": [
    "nameUpper = name.upper()"
   ]
  },
  {
   "cell_type": "code",
   "execution_count": 27,
   "id": "55c0825b-73f2-4b12-b5e8-d03a85dd3149",
   "metadata": {},
   "outputs": [
    {
     "data": {
      "text/plain": [
       "'ABDUL SAMET'"
      ]
     },
     "execution_count": 27,
     "metadata": {},
     "output_type": "execute_result"
    }
   ],
   "source": [
    "nameUpper"
   ]
  },
  {
   "cell_type": "code",
   "execution_count": 29,
   "id": "ecbabf2c-d092-4c4a-8b25-870026e33a2a",
   "metadata": {},
   "outputs": [
    {
     "name": "stdout",
     "output_type": "stream",
     "text": [
      "ABDUL SAMET\n"
     ]
    }
   ],
   "source": [
    "print(name.upper())"
   ]
  },
  {
   "cell_type": "code",
   "execution_count": 31,
   "id": "53e3393d-76b8-48ad-b646-65f41118d8ae",
   "metadata": {},
   "outputs": [
    {
     "data": {
      "text/plain": [
       "11"
      ]
     },
     "execution_count": 31,
     "metadata": {},
     "output_type": "execute_result"
    }
   ],
   "source": [
    "len(name) #lenght uzunluk kaç karakter olduğunu sayar"
   ]
  },
  {
   "cell_type": "code",
   "execution_count": 32,
   "id": "ae28592d-b64a-48be-a088-38c008e73280",
   "metadata": {},
   "outputs": [
    {
     "name": "stdout",
     "output_type": "stream",
     "text": [
      "abdul samet\n"
     ]
    }
   ],
   "source": [
    "print(\"abdul samet\")"
   ]
  },
  {
   "cell_type": "code",
   "execution_count": 33,
   "id": "29db88ad-fc05-4eb5-a4e6-8bed2d24e507",
   "metadata": {},
   "outputs": [
    {
     "name": "stdout",
     "output_type": "stream",
     "text": [
      "abdul \n",
      "samet\n"
     ]
    }
   ],
   "source": [
    "print(\"abdul \\nsamet\")  #\\n escape characters"
   ]
  },
  {
   "cell_type": "code",
   "execution_count": 34,
   "id": "aadee2d5-2d5a-40c1-b544-b2cf01a814c1",
   "metadata": {},
   "outputs": [
    {
     "name": "stdout",
     "output_type": "stream",
     "text": [
      "abdul \tsamet\n"
     ]
    }
   ],
   "source": [
    "print(\"abdul \\tsamet\")"
   ]
  },
  {
   "cell_type": "markdown",
   "id": "4e3cce48-f971-4776-8280-711bec3686c2",
   "metadata": {},
   "source": [
    "#index"
   ]
  },
  {
   "cell_type": "code",
   "execution_count": 35,
   "id": "b3c59adc-f218-4f87-92e0-979698cc3d9d",
   "metadata": {},
   "outputs": [],
   "source": [
    "myString = \"Hello python\""
   ]
  },
  {
   "cell_type": "code",
   "execution_count": 36,
   "id": "a281be24-a97f-4141-b395-d57d2b16986b",
   "metadata": {},
   "outputs": [
    {
     "data": {
      "text/plain": [
       "'l'"
      ]
     },
     "execution_count": 36,
     "metadata": {},
     "output_type": "execute_result"
    }
   ],
   "source": [
    "myString[2]"
   ]
  },
  {
   "cell_type": "code",
   "execution_count": 37,
   "id": "477922d2-6676-4b91-aebc-2ea52f3c76f0",
   "metadata": {},
   "outputs": [
    {
     "data": {
      "text/plain": [
       "'o'"
      ]
     },
     "execution_count": 37,
     "metadata": {},
     "output_type": "execute_result"
    }
   ],
   "source": [
    "myString[4]"
   ]
  },
  {
   "cell_type": "code",
   "execution_count": 40,
   "id": "efc23105-674c-40f7-bc1d-5b42aeb5d893",
   "metadata": {},
   "outputs": [
    {
     "data": {
      "text/plain": [
       "'o'"
      ]
     },
     "execution_count": 40,
     "metadata": {},
     "output_type": "execute_result"
    }
   ],
   "source": [
    "myString[10]"
   ]
  },
  {
   "cell_type": "code",
   "execution_count": 41,
   "id": "150ede19-a4a0-420c-822a-d4b50598abfd",
   "metadata": {},
   "outputs": [
    {
     "data": {
      "text/plain": [
       "'H'"
      ]
     },
     "execution_count": 41,
     "metadata": {},
     "output_type": "execute_result"
    }
   ],
   "source": [
    "myString[0]"
   ]
  },
  {
   "cell_type": "code",
   "execution_count": 42,
   "id": "9a952f9d-e10e-43ab-b857-ff0d1cbccdc4",
   "metadata": {},
   "outputs": [
    {
     "data": {
      "text/plain": [
       "12"
      ]
     },
     "execution_count": 42,
     "metadata": {},
     "output_type": "execute_result"
    }
   ],
   "source": [
    "len(myString)"
   ]
  },
  {
   "cell_type": "code",
   "execution_count": 44,
   "id": "66cac541-7745-4150-b9f2-5915dc3a6ff2",
   "metadata": {},
   "outputs": [
    {
     "data": {
      "text/plain": [
       "11"
      ]
     },
     "execution_count": 44,
     "metadata": {},
     "output_type": "execute_result"
    }
   ],
   "source": [
    "len(myString) -1"
   ]
  },
  {
   "cell_type": "code",
   "execution_count": 45,
   "id": "1017bb48-f6e1-4985-8aa7-a49d74adb4ef",
   "metadata": {},
   "outputs": [],
   "source": [
    "myName = \"abdul samet\""
   ]
  },
  {
   "cell_type": "code",
   "execution_count": 46,
   "id": "d522ed06-aadd-49be-9c0d-ec23fa0950c7",
   "metadata": {},
   "outputs": [
    {
     "data": {
      "text/plain": [
       "10"
      ]
     },
     "execution_count": 46,
     "metadata": {},
     "output_type": "execute_result"
    }
   ],
   "source": [
    "len(myName)-1"
   ]
  },
  {
   "cell_type": "code",
   "execution_count": 47,
   "id": "c8451ba7-085b-42c0-9bab-0b062d3a3f84",
   "metadata": {},
   "outputs": [
    {
     "data": {
      "text/plain": [
       "'t'"
      ]
     },
     "execution_count": 47,
     "metadata": {},
     "output_type": "execute_result"
    }
   ],
   "source": [
    "myName[len(myName) - 1]"
   ]
  },
  {
   "cell_type": "code",
   "execution_count": 50,
   "id": "50d10457-e033-4cee-a32e-e7244876bebc",
   "metadata": {},
   "outputs": [
    {
     "data": {
      "text/plain": [
       "'t'"
      ]
     },
     "execution_count": 50,
     "metadata": {},
     "output_type": "execute_result"
    }
   ],
   "source": [
    "myName[-1]"
   ]
  },
  {
   "cell_type": "code",
   "execution_count": 51,
   "id": "52e4a054-bfef-4d42-9ab2-5b2931e69b1d",
   "metadata": {},
   "outputs": [
    {
     "data": {
      "text/plain": [
       "'e'"
      ]
     },
     "execution_count": 51,
     "metadata": {},
     "output_type": "execute_result"
    }
   ],
   "source": [
    "myName[-2]"
   ]
  },
  {
   "cell_type": "code",
   "execution_count": 52,
   "id": "e39b05d7-7056-4241-ad6c-a7f749a5cb5c",
   "metadata": {},
   "outputs": [],
   "source": [
    "barcode = \"ABCD1234\""
   ]
  },
  {
   "cell_type": "code",
   "execution_count": 53,
   "id": "386d52ef-aff2-4371-9b0d-1979a9d22bb7",
   "metadata": {},
   "outputs": [
    {
     "data": {
      "text/plain": [
       "'A'"
      ]
     },
     "execution_count": 53,
     "metadata": {},
     "output_type": "execute_result"
    }
   ],
   "source": [
    "barcode[0]"
   ]
  },
  {
   "cell_type": "code",
   "execution_count": 54,
   "id": "9f862192-34e3-4d69-b347-7d330bc1b9ce",
   "metadata": {},
   "outputs": [
    {
     "data": {
      "text/plain": [
       "'B'"
      ]
     },
     "execution_count": 54,
     "metadata": {},
     "output_type": "execute_result"
    }
   ],
   "source": [
    "barcode[1]"
   ]
  },
  {
   "cell_type": "code",
   "execution_count": 55,
   "id": "560de0bf-53d5-41cc-b745-9c68735b77b5",
   "metadata": {},
   "outputs": [
    {
     "data": {
      "text/plain": [
       "'C'"
      ]
     },
     "execution_count": 55,
     "metadata": {},
     "output_type": "execute_result"
    }
   ],
   "source": [
    "barcode[2]"
   ]
  },
  {
   "cell_type": "code",
   "execution_count": 56,
   "id": "0cb9343a-91a7-478b-a9bc-e4157ad647c0",
   "metadata": {},
   "outputs": [
    {
     "data": {
      "text/plain": [
       "'AB'"
      ]
     },
     "execution_count": 56,
     "metadata": {},
     "output_type": "execute_result"
    }
   ],
   "source": [
    "\"A\" + \"B\""
   ]
  },
  {
   "cell_type": "code",
   "execution_count": 73,
   "id": "cccc5892-e1be-424c-9a9c-1c99e0bfd854",
   "metadata": {},
   "outputs": [],
   "source": [
    "name = \" samet\""
   ]
  },
  {
   "cell_type": "code",
   "execution_count": 74,
   "id": "14893377-dfff-4e7e-9174-f805cf7e0bde",
   "metadata": {},
   "outputs": [],
   "source": [
    "surname = \"kara \""
   ]
  },
  {
   "cell_type": "code",
   "execution_count": 75,
   "id": "524bb189-af97-42db-9e87-1c8c9dd3ad85",
   "metadata": {},
   "outputs": [],
   "source": [
    "fullName = name + \" \" + surname"
   ]
  },
  {
   "cell_type": "code",
   "execution_count": 76,
   "id": "3ea214f8-10d4-422b-8e7a-34477c35904e",
   "metadata": {},
   "outputs": [
    {
     "data": {
      "text/plain": [
       "' samet kara '"
      ]
     },
     "execution_count": 76,
     "metadata": {},
     "output_type": "execute_result"
    }
   ],
   "source": [
    "fullName"
   ]
  },
  {
   "cell_type": "code",
   "execution_count": 77,
   "id": "e5000bd3-f377-47cf-91fb-8a24dc5a88b7",
   "metadata": {},
   "outputs": [
    {
     "data": {
      "text/plain": [
       "' samet kara  samet kara  samet kara  samet kara  samet kara '"
      ]
     },
     "execution_count": 77,
     "metadata": {},
     "output_type": "execute_result"
    }
   ],
   "source": [
    "fullName * 5"
   ]
  },
  {
   "cell_type": "code",
   "execution_count": 78,
   "id": "20a2bfac-4918-4423-bace-052a105617e8",
   "metadata": {},
   "outputs": [
    {
     "data": {
      "text/plain": [
       "'ABC'"
      ]
     },
     "execution_count": 78,
     "metadata": {},
     "output_type": "execute_result"
    }
   ],
   "source": [
    "barcode[0] + barcode[1] + barcode[2]  "
   ]
  },
  {
   "cell_type": "code",
   "execution_count": 79,
   "id": "e3f87071-436c-4d83-94c1-d167738fae49",
   "metadata": {},
   "outputs": [],
   "source": [
    "#slicing , starting index, stopping index, stepping size"
   ]
  },
  {
   "cell_type": "code",
   "execution_count": 81,
   "id": "068d5dc6-6fc1-4be9-9bb8-157a60086110",
   "metadata": {},
   "outputs": [
    {
     "data": {
      "text/plain": [
       "'ABCD1234'"
      ]
     },
     "execution_count": 81,
     "metadata": {},
     "output_type": "execute_result"
    }
   ],
   "source": [
    "barcode[::]"
   ]
  },
  {
   "cell_type": "code",
   "execution_count": 82,
   "id": "a4bbf83e-ae02-42d1-9444-8b1ae54aa971",
   "metadata": {},
   "outputs": [
    {
     "data": {
      "text/plain": [
       "'BD24'"
      ]
     },
     "execution_count": 82,
     "metadata": {},
     "output_type": "execute_result"
    }
   ],
   "source": [
    "barcode[1:9:2]"
   ]
  },
  {
   "cell_type": "code",
   "execution_count": 83,
   "id": "f4bcc41c-8478-4e87-a915-430dce4ee37e",
   "metadata": {},
   "outputs": [
    {
     "data": {
      "text/plain": [
       "'ABCD1234'"
      ]
     },
     "execution_count": 83,
     "metadata": {},
     "output_type": "execute_result"
    }
   ],
   "source": [
    "barcode"
   ]
  },
  {
   "cell_type": "code",
   "execution_count": 84,
   "id": "c3cfa0a8-6b8d-47d0-99c7-709ba4c4eb26",
   "metadata": {},
   "outputs": [
    {
     "data": {
      "text/plain": [
       "'D123'"
      ]
     },
     "execution_count": 84,
     "metadata": {},
     "output_type": "execute_result"
    }
   ],
   "source": [
    "barcode[3:7:1]"
   ]
  },
  {
   "cell_type": "code",
   "execution_count": 85,
   "id": "0818a4d7-8157-4ddb-9e03-bd0dbe82ef96",
   "metadata": {},
   "outputs": [
    {
     "data": {
      "text/plain": [
       "'ABC'"
      ]
     },
     "execution_count": 85,
     "metadata": {},
     "output_type": "execute_result"
    }
   ],
   "source": [
    "barcode[:3:]"
   ]
  },
  {
   "cell_type": "code",
   "execution_count": 86,
   "id": "ba86898d-db6d-43b0-8607-119568026df0",
   "metadata": {},
   "outputs": [
    {
     "data": {
      "text/plain": [
       "'D1234'"
      ]
     },
     "execution_count": 86,
     "metadata": {},
     "output_type": "execute_result"
    }
   ],
   "source": [
    "barcode[3::]"
   ]
  },
  {
   "cell_type": "code",
   "execution_count": 87,
   "id": "ff7a0a98-e34a-42a4-9555-3f4ed5e5915b",
   "metadata": {},
   "outputs": [
    {
     "data": {
      "text/plain": [
       "'AC13'"
      ]
     },
     "execution_count": 87,
     "metadata": {},
     "output_type": "execute_result"
    }
   ],
   "source": [
    "barcode[::2]"
   ]
  },
  {
   "cell_type": "code",
   "execution_count": 88,
   "id": "ab8a2241-b927-4920-9366-e189e1a34b3e",
   "metadata": {},
   "outputs": [
    {
     "data": {
      "text/plain": [
       "'ABCD1234'"
      ]
     },
     "execution_count": 88,
     "metadata": {},
     "output_type": "execute_result"
    }
   ],
   "source": [
    "barcode[::]"
   ]
  },
  {
   "cell_type": "code",
   "execution_count": 94,
   "id": "4def7d04-734c-4b34-a8ba-ce36a53a6637",
   "metadata": {},
   "outputs": [
    {
     "data": {
      "text/plain": [
       "'D12'"
      ]
     },
     "execution_count": 94,
     "metadata": {},
     "output_type": "execute_result"
    }
   ],
   "source": [
    "barcode[3:6:]"
   ]
  },
  {
   "cell_type": "code",
   "execution_count": 96,
   "id": "a054e9ba-dff7-449e-bdf1-5218bf422c9f",
   "metadata": {},
   "outputs": [
    {
     "data": {
      "text/plain": [
       "'4321DCBA'"
      ]
     },
     "execution_count": 96,
     "metadata": {},
     "output_type": "execute_result"
    }
   ],
   "source": [
    "barcode[::-1] #ters çevirir"
   ]
  },
  {
   "cell_type": "code",
   "execution_count": 97,
   "id": "ac20251e-c5a3-4324-a9d2-e79d42ef7fd6",
   "metadata": {},
   "outputs": [],
   "source": [
    "name = \"abdul samet\""
   ]
  },
  {
   "cell_type": "code",
   "execution_count": 98,
   "id": "2634a0b1-d6ee-4239-a911-7f90a28d1d92",
   "metadata": {},
   "outputs": [
    {
     "name": "stdout",
     "output_type": "stream",
     "text": [
      "Help on built-in function index:\n",
      "\n",
      "index(...) method of builtins.str instance\n",
      "    S.index(sub[, start[, end]]) -> int\n",
      "\n",
      "    Return the lowest index in S where substring sub is found,\n",
      "    such that sub is contained within S[start:end].  Optional\n",
      "    arguments start and end are interpreted as in slice notation.\n",
      "\n",
      "    Raises ValueError when the substring is not found.\n",
      "\n"
     ]
    }
   ],
   "source": [
    "help(name.index)"
   ]
  },
  {
   "cell_type": "code",
   "execution_count": 101,
   "id": "278dbd66-8296-4e9c-b40d-171076d7036e",
   "metadata": {},
   "outputs": [
    {
     "data": {
      "text/plain": [
       "6"
      ]
     },
     "execution_count": 101,
     "metadata": {},
     "output_type": "execute_result"
    }
   ],
   "source": [
    "name.index(\"s\")"
   ]
  },
  {
   "cell_type": "code",
   "execution_count": 102,
   "id": "7e086dbc-c448-4098-b2be-9e95ebc1e70a",
   "metadata": {},
   "outputs": [
    {
     "data": {
      "text/plain": [
       "['abdul', 'samet']"
      ]
     },
     "execution_count": 102,
     "metadata": {},
     "output_type": "execute_result"
    }
   ],
   "source": [
    "name.split()"
   ]
  },
  {
   "cell_type": "code",
   "execution_count": 106,
   "id": "ea5fd076-9f3b-429e-b443-1997518c91c7",
   "metadata": {},
   "outputs": [
    {
     "data": {
      "text/plain": [
       "list"
      ]
     },
     "execution_count": 106,
     "metadata": {},
     "output_type": "execute_result"
    }
   ],
   "source": [
    "type(name.split())"
   ]
  }
 ],
 "metadata": {
  "kernelspec": {
   "display_name": "Python 3 (ipykernel)",
   "language": "python",
   "name": "python3"
  },
  "language_info": {
   "codemirror_mode": {
    "name": "ipython",
    "version": 3
   },
   "file_extension": ".py",
   "mimetype": "text/x-python",
   "name": "python",
   "nbconvert_exporter": "python",
   "pygments_lexer": "ipython3",
   "version": "3.12.7"
  }
 },
 "nbformat": 4,
 "nbformat_minor": 5
}
