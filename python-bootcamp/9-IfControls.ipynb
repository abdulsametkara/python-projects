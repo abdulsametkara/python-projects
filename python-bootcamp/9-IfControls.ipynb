{
 "cells": [
  {
   "cell_type": "code",
   "execution_count": 1,
   "id": "6e252656-012b-47e7-bba7-86d0325286cb",
   "metadata": {},
   "outputs": [],
   "source": [
    "x = 5\n",
    "y = 2"
   ]
  },
  {
   "cell_type": "code",
   "execution_count": 2,
   "id": "62972a81-56c3-43b3-824a-68c19f2c4df0",
   "metadata": {},
   "outputs": [
    {
     "data": {
      "text/plain": [
       "True"
      ]
     },
     "execution_count": 2,
     "metadata": {},
     "output_type": "execute_result"
    }
   ],
   "source": [
    "x > y"
   ]
  },
  {
   "cell_type": "code",
   "execution_count": 3,
   "id": "9b5e4932-43c4-43cf-9dfc-e8761b3ff46f",
   "metadata": {},
   "outputs": [
    {
     "data": {
      "text/plain": [
       "False"
      ]
     },
     "execution_count": 3,
     "metadata": {},
     "output_type": "execute_result"
    }
   ],
   "source": [
    "x < y"
   ]
  },
  {
   "cell_type": "code",
   "execution_count": 4,
   "id": "eea52abe-5b0c-42fb-97a3-70faf05dfc50",
   "metadata": {},
   "outputs": [],
   "source": [
    "y = 5"
   ]
  },
  {
   "cell_type": "code",
   "execution_count": 8,
   "id": "f6e74129-2aba-4067-ad6a-3003d969c416",
   "metadata": {},
   "outputs": [
    {
     "data": {
      "text/plain": [
       "True"
      ]
     },
     "execution_count": 8,
     "metadata": {},
     "output_type": "execute_result"
    }
   ],
   "source": [
    "x >= y"
   ]
  },
  {
   "cell_type": "code",
   "execution_count": 9,
   "id": "8383375a-5f22-4cd6-8b6e-02646350ff3c",
   "metadata": {},
   "outputs": [],
   "source": [
    "x = 10\n",
    "y = 8"
   ]
  },
  {
   "cell_type": "code",
   "execution_count": 10,
   "id": "57c4432c-97a5-4546-a7b4-ff93442b7ba0",
   "metadata": {},
   "outputs": [],
   "source": [
    "x = y"
   ]
  },
  {
   "cell_type": "code",
   "execution_count": 11,
   "id": "470fe950-e9a1-4074-8014-6620b0478e7f",
   "metadata": {},
   "outputs": [
    {
     "data": {
      "text/plain": [
       "8"
      ]
     },
     "execution_count": 11,
     "metadata": {},
     "output_type": "execute_result"
    }
   ],
   "source": [
    "x"
   ]
  },
  {
   "cell_type": "code",
   "execution_count": 12,
   "id": "00417601-a2fa-4c01-903d-d1e779114cb5",
   "metadata": {},
   "outputs": [
    {
     "data": {
      "text/plain": [
       "8"
      ]
     },
     "execution_count": 12,
     "metadata": {},
     "output_type": "execute_result"
    }
   ],
   "source": [
    "y"
   ]
  },
  {
   "cell_type": "code",
   "execution_count": 13,
   "id": "768ee456-deb2-43a3-b7b8-bdfa58f538df",
   "metadata": {},
   "outputs": [],
   "source": [
    "x = 10"
   ]
  },
  {
   "cell_type": "code",
   "execution_count": 14,
   "id": "623ee401-8c48-42a2-a666-af2fde74b5d5",
   "metadata": {},
   "outputs": [
    {
     "data": {
      "text/plain": [
       "False"
      ]
     },
     "execution_count": 14,
     "metadata": {},
     "output_type": "execute_result"
    }
   ],
   "source": [
    "x == y"
   ]
  },
  {
   "cell_type": "code",
   "execution_count": 15,
   "id": "6cb41eeb-deff-4420-89d6-41d35d4efbff",
   "metadata": {},
   "outputs": [
    {
     "data": {
      "text/plain": [
       "True"
      ]
     },
     "execution_count": 15,
     "metadata": {},
     "output_type": "execute_result"
    }
   ],
   "source": [
    "x != y"
   ]
  },
  {
   "cell_type": "code",
   "execution_count": 16,
   "id": "6ad38bff-5fbb-4e6a-a8db-770780fc3a59",
   "metadata": {},
   "outputs": [
    {
     "data": {
      "text/plain": [
       "True"
      ]
     },
     "execution_count": 16,
     "metadata": {},
     "output_type": "execute_result"
    }
   ],
   "source": [
    "2 > 1 and 3 > 2"
   ]
  },
  {
   "cell_type": "code",
   "execution_count": 17,
   "id": "826a7156-2a29-439d-a86a-699cb9f723c8",
   "metadata": {},
   "outputs": [
    {
     "data": {
      "text/plain": [
       "True"
      ]
     },
     "execution_count": 17,
     "metadata": {},
     "output_type": "execute_result"
    }
   ],
   "source": [
    "10 in [10,20,30]"
   ]
  },
  {
   "cell_type": "code",
   "execution_count": 18,
   "id": "c192c42f-1826-46c4-88ba-c7ff032678e0",
   "metadata": {},
   "outputs": [
    {
     "data": {
      "text/plain": [
       "True"
      ]
     },
     "execution_count": 18,
     "metadata": {},
     "output_type": "execute_result"
    }
   ],
   "source": [
    "5 not in [10,20,30]"
   ]
  },
  {
   "cell_type": "code",
   "execution_count": 19,
   "id": "672e3abe-c6ad-4166-94e3-5540331bcd79",
   "metadata": {},
   "outputs": [
    {
     "data": {
      "text/plain": [
       "True"
      ]
     },
     "execution_count": 19,
     "metadata": {},
     "output_type": "execute_result"
    }
   ],
   "source": [
    "10 in {10,20,30}"
   ]
  },
  {
   "cell_type": "code",
   "execution_count": 30,
   "id": "4d509c7d-adf6-4bdc-930e-9240b21532e4",
   "metadata": {},
   "outputs": [],
   "source": [
    "mySuperhero = \"Batman\""
   ]
  },
  {
   "cell_type": "code",
   "execution_count": 31,
   "id": "abc00274-c86a-414a-9cc8-6260a0b377cd",
   "metadata": {},
   "outputs": [
    {
     "data": {
      "text/plain": [
       "True"
      ]
     },
     "execution_count": 31,
     "metadata": {},
     "output_type": "execute_result"
    }
   ],
   "source": [
    "mySuperhero == \"Batman\""
   ]
  },
  {
   "cell_type": "code",
   "execution_count": 32,
   "id": "675441bd-d842-4479-ab80-bb1b4d1fe7ce",
   "metadata": {},
   "outputs": [
    {
     "data": {
      "text/plain": [
       "False"
      ]
     },
     "execution_count": 32,
     "metadata": {},
     "output_type": "execute_result"
    }
   ],
   "source": [
    "mySuperhero == \"Superman\""
   ]
  },
  {
   "cell_type": "code",
   "execution_count": 33,
   "id": "6ed8e068-bc4f-457f-897f-89cd9a96f3c5",
   "metadata": {},
   "outputs": [
    {
     "name": "stdout",
     "output_type": "stream",
     "text": [
      "batmannn\n",
      "samet\n",
      "abdul\n"
     ]
    }
   ],
   "source": [
    "if mySuperhero == \"Batman\":\n",
    "    print(\"batmannn\")\n",
    "    print(\"samet\")\n",
    "####----------------#############\n",
    "print(\"abdul\")"
   ]
  },
  {
   "cell_type": "code",
   "execution_count": 37,
   "id": "93afb1e0-9925-4de8-b4fe-f019ea25d695",
   "metadata": {},
   "outputs": [
    {
     "name": "stdout",
     "output_type": "stream",
     "text": [
      "samet\n"
     ]
    }
   ],
   "source": [
    "if 3 > 2 :\n",
    "    print(\"samet\")"
   ]
  },
  {
   "cell_type": "code",
   "execution_count": 44,
   "id": "9f499796-049e-448f-a076-7901fa8632a8",
   "metadata": {},
   "outputs": [
    {
     "name": "stdin",
     "output_type": "stream",
     "text": [
      "enter superhero:  asdas\n"
     ]
    }
   ],
   "source": [
    "mySuperhero = input(\"enter superhero: \")"
   ]
  },
  {
   "cell_type": "code",
   "execution_count": 46,
   "id": "ddc1554d-533b-4d28-a9e3-be6035e376ea",
   "metadata": {},
   "outputs": [
    {
     "name": "stdout",
     "output_type": "stream",
     "text": [
      "nothing else\n"
     ]
    }
   ],
   "source": [
    "if mySuperhero == \"Superman\":\n",
    "    print(\"supermannn\")\n",
    "elif mySuperhero == \"Batman\":\n",
    "    print(\"batmannn\")\n",
    "elif mySuperhero == \"Ironman\":\n",
    "    print(\"Ironmannn\")\n",
    "else:\n",
    "    print(\"nothing else\")"
   ]
  },
  {
   "cell_type": "code",
   "execution_count": 55,
   "id": "d6626092-a235-4c19-a244-77fcad116320",
   "metadata": {},
   "outputs": [],
   "source": [
    "myAge = 100"
   ]
  },
  {
   "cell_type": "code",
   "execution_count": 56,
   "id": "e28701f6-13b1-45d6-aa39-0ccf387a18df",
   "metadata": {},
   "outputs": [
    {
     "name": "stdout",
     "output_type": "stream",
     "text": [
      "age > 40\n"
     ]
    }
   ],
   "source": [
    "if myAge < 18:\n",
    "    print(\"age < 18\")\n",
    "elif myAge >= 18 and myAge <= 30:\n",
    "    print(\"18 - age - 30\")\n",
    "elif myAge > 30 and myAge <= 40:\n",
    "    print(\"30 - age - 40\")\n",
    "else:\n",
    "    print(\"age > 40\")"
   ]
  },
  {
   "cell_type": "code",
   "execution_count": 61,
   "id": "7b923dff-7f54-4f9a-818c-79cb1b185951",
   "metadata": {},
   "outputs": [
    {
     "name": "stdin",
     "output_type": "stream",
     "text": [
      "enter superhero:  Thor\n"
     ]
    }
   ],
   "source": [
    "mySuperhero = input(\"enter superhero: \")"
   ]
  },
  {
   "cell_type": "code",
   "execution_count": 62,
   "id": "b4d35bf9-ffdf-49a3-ae63-88515fd08270",
   "metadata": {},
   "outputs": [],
   "source": [
    "mySuperheroList = [\"Spiderman\", \"Thor\", \"Ironman\"]"
   ]
  },
  {
   "cell_type": "code",
   "execution_count": 63,
   "id": "7c34944c-a275-496d-a9d3-7fbb6a23783e",
   "metadata": {},
   "outputs": [
    {
     "name": "stdout",
     "output_type": "stream",
     "text": [
      ":)\n"
     ]
    }
   ],
   "source": [
    "if mySuperhero in mySuperheroList:\n",
    "    print(\":)\")\n",
    "else:\n",
    "    print(\":(\")"
   ]
  },
  {
   "cell_type": "code",
   "execution_count": null,
   "id": "b8ba213e-46c9-4f09-95a0-cf2ef02d393f",
   "metadata": {},
   "outputs": [],
   "source": []
  }
 ],
 "metadata": {
  "kernelspec": {
   "display_name": "Python 3 (ipykernel)",
   "language": "python",
   "name": "python3"
  },
  "language_info": {
   "codemirror_mode": {
    "name": "ipython",
    "version": 3
   },
   "file_extension": ".py",
   "mimetype": "text/x-python",
   "name": "python",
   "nbconvert_exporter": "python",
   "pygments_lexer": "ipython3",
   "version": "3.12.7"
  }
 },
 "nbformat": 4,
 "nbformat_minor": 5
}
