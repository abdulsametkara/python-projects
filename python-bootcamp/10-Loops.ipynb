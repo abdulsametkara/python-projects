{
 "cells": [
  {
   "cell_type": "code",
   "execution_count": 1,
   "id": "78e4748c-8505-4bc1-aeb0-2079cd9a9f05",
   "metadata": {},
   "outputs": [],
   "source": [
    "myList = [10,20,30,40,50,60,70]"
   ]
  },
  {
   "cell_type": "code",
   "execution_count": 2,
   "id": "871770dd-156d-4efc-bd07-525f97a93611",
   "metadata": {},
   "outputs": [
    {
     "name": "stdout",
     "output_type": "stream",
     "text": [
      "10\n",
      "20\n",
      "30\n",
      "40\n",
      "50\n",
      "60\n",
      "70\n"
     ]
    }
   ],
   "source": [
    "for number in myList:\n",
    "    print(number)"
   ]
  },
  {
   "cell_type": "code",
   "execution_count": 7,
   "id": "0f91b03c-ec86-4b16-93ed-42fea73fb89d",
   "metadata": {},
   "outputs": [
    {
     "name": "stdout",
     "output_type": "stream",
     "text": [
      "4.0\n",
      "8.0\n",
      "12.0\n",
      "16.0\n",
      "20.0\n",
      "24.0\n",
      "28.0\n"
     ]
    }
   ],
   "source": [
    "for number in myList:\n",
    "    print(number / 5 * 2)"
   ]
  },
  {
   "cell_type": "code",
   "execution_count": 9,
   "id": "53a697ea-f48c-43ca-88c1-20343ee67063",
   "metadata": {},
   "outputs": [
    {
     "name": "stdout",
     "output_type": "stream",
     "text": [
      "for loop started\n",
      "4.0\n",
      "8.0\n",
      "12.0\n",
      "16.0\n",
      "20.0\n",
      "24.0\n",
      "28.0\n",
      "for loop finished\n"
     ]
    }
   ],
   "source": [
    "print(\"for loop started\")\n",
    "for x in myList:\n",
    "    newNumber = x / 5 * 2\n",
    "    print(newNumber)\n",
    "print(\"for loop finished\")"
   ]
  },
  {
   "cell_type": "code",
   "execution_count": 10,
   "id": "e59752f1-8120-42d3-8133-add5c814cfcb",
   "metadata": {},
   "outputs": [
    {
     "name": "stdout",
     "output_type": "stream",
     "text": [
      "30\n",
      "60\n"
     ]
    }
   ],
   "source": [
    "for item in myList:\n",
    "    if item % 3 == 0:\n",
    "        print(item)"
   ]
  },
  {
   "cell_type": "code",
   "execution_count": 11,
   "id": "92b3b0f6-c186-4df0-b799-c1cf0ceaf275",
   "metadata": {},
   "outputs": [],
   "source": [
    "myTuple = (10,20,30,40,50,60,70)"
   ]
  },
  {
   "cell_type": "code",
   "execution_count": 14,
   "id": "cc674d79-0491-441e-b8e9-80a3aa4fe976",
   "metadata": {},
   "outputs": [
    {
     "name": "stdout",
     "output_type": "stream",
     "text": [
      "4.0\n",
      "8.0\n",
      "12.0\n",
      "16.0\n",
      "20.0\n",
      "24.0\n",
      "28.0\n"
     ]
    }
   ],
   "source": [
    "for num in myTuple:\n",
    "    print(num / 5 * 2)"
   ]
  },
  {
   "cell_type": "code",
   "execution_count": 15,
   "id": "d758cbf2-c73d-4684-b833-8bd755385f2d",
   "metadata": {},
   "outputs": [
    {
     "data": {
      "text/plain": [
       "(10, 20, 30, 40, 50, 60, 70)"
      ]
     },
     "execution_count": 15,
     "metadata": {},
     "output_type": "execute_result"
    }
   ],
   "source": [
    "myTuple"
   ]
  },
  {
   "cell_type": "code",
   "execution_count": 16,
   "id": "e244546d-5e5c-4690-9cd4-d992d7d7a135",
   "metadata": {},
   "outputs": [],
   "source": [
    "myNewList = [(\"a\",\"b\"),(\"c\",\"d\"),(\"e\",\"f\"),(\"f\",\"g\")] "
   ]
  },
  {
   "cell_type": "code",
   "execution_count": 17,
   "id": "f7f9db94-4f4a-49bc-a744-2d163b4f901d",
   "metadata": {},
   "outputs": [
    {
     "data": {
      "text/plain": [
       "4"
      ]
     },
     "execution_count": 17,
     "metadata": {},
     "output_type": "execute_result"
    }
   ],
   "source": [
    "len(myNewList)"
   ]
  },
  {
   "cell_type": "code",
   "execution_count": 18,
   "id": "550d360b-b4e5-45e6-ade1-136249e32193",
   "metadata": {},
   "outputs": [
    {
     "data": {
      "text/plain": [
       "'a'"
      ]
     },
     "execution_count": 18,
     "metadata": {},
     "output_type": "execute_result"
    }
   ],
   "source": [
    "myNewList[0][0]"
   ]
  },
  {
   "cell_type": "code",
   "execution_count": 20,
   "id": "20f22a46-114d-4237-8f4e-9568f5e0d9ba",
   "metadata": {},
   "outputs": [
    {
     "name": "stdout",
     "output_type": "stream",
     "text": [
      "('a', 'b')\n",
      "('c', 'd')\n",
      "('e', 'f')\n",
      "('f', 'g')\n"
     ]
    }
   ],
   "source": [
    "for elemant in myNewList:\n",
    "    print(elemant)"
   ]
  },
  {
   "cell_type": "code",
   "execution_count": 21,
   "id": "f19cbccb-2db7-4a39-9533-e4f73ec1833a",
   "metadata": {},
   "outputs": [],
   "source": [
    "#tuple unpacking"
   ]
  },
  {
   "cell_type": "code",
   "execution_count": 22,
   "id": "08bdb20f-5bb8-4209-af3a-67ac17f25eff",
   "metadata": {},
   "outputs": [
    {
     "name": "stdout",
     "output_type": "stream",
     "text": [
      "a\n",
      "c\n",
      "e\n",
      "f\n"
     ]
    }
   ],
   "source": [
    "for (x,y) in myNewList:\n",
    "    print(x)"
   ]
  },
  {
   "cell_type": "code",
   "execution_count": 24,
   "id": "71216a59-ce1e-46c2-bad3-050a2aa4b755",
   "metadata": {},
   "outputs": [
    {
     "name": "stdout",
     "output_type": "stream",
     "text": [
      "b\n",
      "d\n",
      "f\n",
      "g\n"
     ]
    }
   ],
   "source": [
    "for (x,y) in myNewList:\n",
    "    print(y)"
   ]
  },
  {
   "cell_type": "code",
   "execution_count": 25,
   "id": "6e0e5a7b-7d7c-4dfe-9889-9e86a4373a78",
   "metadata": {},
   "outputs": [],
   "source": [
    "myTupleList = [(1,2,3),(4,5,36),(7,8,9),(10,11,12)]"
   ]
  },
  {
   "cell_type": "code",
   "execution_count": 26,
   "id": "66202318-398c-44ea-9dae-572edd286359",
   "metadata": {},
   "outputs": [
    {
     "data": {
      "text/plain": [
       "4"
      ]
     },
     "execution_count": 26,
     "metadata": {},
     "output_type": "execute_result"
    }
   ],
   "source": [
    "len(myTupleList)"
   ]
  },
  {
   "cell_type": "code",
   "execution_count": 28,
   "id": "91f28941-9c4c-4074-bab4-7a35cf89fe50",
   "metadata": {},
   "outputs": [
    {
     "name": "stdout",
     "output_type": "stream",
     "text": [
      "1\n",
      "4\n",
      "7\n",
      "10\n"
     ]
    }
   ],
   "source": [
    "for (x,y,z) in myTupleList:\n",
    "    print(x)"
   ]
  },
  {
   "cell_type": "code",
   "execution_count": 30,
   "id": "a7ff2e6e-c96b-4cfe-b691-7bc994e48752",
   "metadata": {},
   "outputs": [],
   "source": [
    "mySet = {1,2,3,4,5}"
   ]
  },
  {
   "cell_type": "code",
   "execution_count": 31,
   "id": "252c232b-0966-455c-8ab3-029459c08fd0",
   "metadata": {},
   "outputs": [
    {
     "data": {
      "text/plain": [
       "{1, 2, 3, 4, 5}"
      ]
     },
     "execution_count": 31,
     "metadata": {},
     "output_type": "execute_result"
    }
   ],
   "source": [
    "mySet"
   ]
  },
  {
   "cell_type": "code",
   "execution_count": 32,
   "id": "1f4502a8-ff10-4008-b679-c1f8a5e0e014",
   "metadata": {},
   "outputs": [
    {
     "data": {
      "text/plain": [
       "5"
      ]
     },
     "execution_count": 32,
     "metadata": {},
     "output_type": "execute_result"
    }
   ],
   "source": [
    "len(mySet)"
   ]
  },
  {
   "cell_type": "code",
   "execution_count": 34,
   "id": "8c35dcbf-fba7-4fbb-b064-954c00ba8d82",
   "metadata": {},
   "outputs": [
    {
     "name": "stdout",
     "output_type": "stream",
     "text": [
      "1\n",
      "2\n",
      "3\n",
      "4\n",
      "5\n"
     ]
    }
   ],
   "source": [
    "for num in mySet:\n",
    "    print(num)"
   ]
  },
  {
   "cell_type": "code",
   "execution_count": 36,
   "id": "a10d088e-f8c0-48aa-ad38-9a04f7f43680",
   "metadata": {},
   "outputs": [],
   "source": [
    "myDictionary = {\"k1\" : 100,\"k2\" : 200,\"k3\" : 300}"
   ]
  },
  {
   "cell_type": "code",
   "execution_count": 38,
   "id": "b3434d01-828e-4b1b-b75b-22273770c844",
   "metadata": {},
   "outputs": [
    {
     "data": {
      "text/plain": [
       "{'k1': 100, 'k2': 200, 'k3': 300}"
      ]
     },
     "execution_count": 38,
     "metadata": {},
     "output_type": "execute_result"
    }
   ],
   "source": [
    "myDictionary"
   ]
  },
  {
   "cell_type": "code",
   "execution_count": 42,
   "id": "582d4c28-41d3-46e7-b1f4-5caf02aa2a8d",
   "metadata": {},
   "outputs": [
    {
     "name": "stdout",
     "output_type": "stream",
     "text": [
      "k1\n",
      "k2\n",
      "k3\n"
     ]
    }
   ],
   "source": [
    "for item in myDictionary:\n",
    "    print(item)"
   ]
  },
  {
   "cell_type": "code",
   "execution_count": 43,
   "id": "8a4d9e1c-2fca-40be-95b2-aa6ea45c821f",
   "metadata": {},
   "outputs": [
    {
     "name": "stdout",
     "output_type": "stream",
     "text": [
      "100\n",
      "200\n",
      "300\n"
     ]
    }
   ],
   "source": [
    "for item in myDictionary.values():\n",
    "    print(item)"
   ]
  },
  {
   "cell_type": "code",
   "execution_count": 45,
   "id": "7034343f-454d-4fb2-9f70-b72380a21bda",
   "metadata": {},
   "outputs": [
    {
     "name": "stdout",
     "output_type": "stream",
     "text": [
      "('k1', 100)\n",
      "('k2', 200)\n",
      "('k3', 300)\n"
     ]
    }
   ],
   "source": [
    "for item in myDictionary.items():\n",
    "    print(item)"
   ]
  },
  {
   "cell_type": "code",
   "execution_count": null,
   "id": "cd03c87e-614b-47c4-b199-d36568ffeb1c",
   "metadata": {},
   "outputs": [],
   "source": []
  }
 ],
 "metadata": {
  "kernelspec": {
   "display_name": "Python 3 (ipykernel)",
   "language": "python",
   "name": "python3"
  },
  "language_info": {
   "codemirror_mode": {
    "name": "ipython",
    "version": 3
   },
   "file_extension": ".py",
   "mimetype": "text/x-python",
   "name": "python",
   "nbconvert_exporter": "python",
   "pygments_lexer": "ipython3",
   "version": "3.12.7"
  }
 },
 "nbformat": 4,
 "nbformat_minor": 5
}
