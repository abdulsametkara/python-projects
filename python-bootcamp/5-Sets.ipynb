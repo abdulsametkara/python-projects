{
 "cells": [
  {
   "cell_type": "code",
   "execution_count": 1,
   "id": "801094e7-b8ed-403f-a772-6b04171d994e",
   "metadata": {},
   "outputs": [],
   "source": [
    "#unique elements, unordered"
   ]
  },
  {
   "cell_type": "code",
   "execution_count": 2,
   "id": "cb09959e-9c83-44f6-addd-aa8f214e9541",
   "metadata": {},
   "outputs": [],
   "source": [
    "myList = [10,20,30,10,20,40,10,20,40]"
   ]
  },
  {
   "cell_type": "code",
   "execution_count": 3,
   "id": "a36aacc2-ffa8-4a0d-9177-beff15ef71b3",
   "metadata": {},
   "outputs": [
    {
     "data": {
      "text/plain": [
       "9"
      ]
     },
     "execution_count": 3,
     "metadata": {},
     "output_type": "execute_result"
    }
   ],
   "source": [
    "len(myList)"
   ]
  },
  {
   "cell_type": "code",
   "execution_count": 4,
   "id": "2501bb14-73ed-47a1-b0e0-9024d202aa7b",
   "metadata": {},
   "outputs": [
    {
     "data": {
      "text/plain": [
       "[10, 20, 30, 10, 20, 40, 10, 20, 40]"
      ]
     },
     "execution_count": 4,
     "metadata": {},
     "output_type": "execute_result"
    }
   ],
   "source": [
    "myList"
   ]
  },
  {
   "cell_type": "code",
   "execution_count": null,
   "id": "0e422c18-2f3d-45b6-92cc-6f881cc9ce78",
   "metadata": {},
   "outputs": [],
   "source": []
  }
 ],
 "metadata": {
  "kernelspec": {
   "display_name": "Python 3 (ipykernel)",
   "language": "python",
   "name": "python3"
  },
  "language_info": {
   "codemirror_mode": {
    "name": "ipython",
    "version": 3
   },
   "file_extension": ".py",
   "mimetype": "text/x-python",
   "name": "python",
   "nbconvert_exporter": "python",
   "pygments_lexer": "ipython3",
   "version": "3.12.7"
  }
 },
 "nbformat": 4,
 "nbformat_minor": 5
}
